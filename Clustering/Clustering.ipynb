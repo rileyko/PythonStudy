{
 "cells": [
  {
   "cell_type": "markdown",
   "metadata": {},
   "source": [
    "# Clustering\n",
    "## 분류의 두가지 종류\n",
    "1. Classification(분류)\n",
    "- 지도 학습 : 각 개체별 그룹의 Label이 사전에 알려져있을 때 사용하는 분석방법\n",
    "- Classification : 기존에 존재하는 데이터의 카테고리 라벨을 파악하고, 새롭게 관측된 데이터의 카테고리를 스스로 판별하는 과정\n",
    "- 목적 : 라벨이 있을 때, 새로운 데이터 그룹을 예측하기 위한 목적\n",
    "2. Clustering(군집)\n",
    "- 비지도 학습 : 군집의 수, 속성 즉 Label 이 사전에 알려져 있지 않을 때 사용하는 분석방법\n",
    "- Clustering : 데이터 간의 유사도를 정의하고, 그 유사도에 가까운 것부터 순서대로 합쳐가는 방법\n",
    "- Ex) k-means, DBSCAN, ...\n",
    "- 목적 : 각 개체의 범주가 군집 정보를 모를 때(라벨 X) 데이터 자체의 특성에 대해 알고자하는 목적\n",
    "- 군집 분석(Clustering)의 원리\n",
    "    - 거리가 가까운 (유사도 ⬆️) 개체들을 서로 묶어 하나의 그룹으로 정리함\n",
    "        * 거리(유사도) 계산 방법: 유클리드 거리(피타고라스), 맨해튼 거리(절대값)\n",
    "- 군집화 방법\n",
    "    1. 비계층적 군집분석(Non-Hierarchical Clustering)\n",
    "    * 계층을 두지않고 그룹화를 할 유사도 측정 방식에 따라 최적의 그룹(cluster)을 계속적으로 찾아나가는 방법\n",
    "    * 방법 2가지\n",
    "        * 중심 기반(Center-based) : K-means\n",
    "        * 밀도 기반(Density-based) : DBSCAN\n",
    "    2. 계층적 군집분석(Hierarchical Clustering)\n",
    "    * 병학적 방법 + 분할적 방법을 바탕으로 군집 형성되고, 한 관찰단위는 한 군집에 속하면 다른 군집에 속하지 못함\n",
    "        * 병합적 방법: 가까운 관찰단위끼리 군집 형성\n",
    "        * 분할적 방법 : 거리가 먼 관찰단위들을 나누어가는 방법  \n",
    "        <br>\n",
    "    - <img src=\"imgs/Clustering.png\" width=\"350\" height=\"200\">\n",
    "\n"
   ]
  },
  {
   "cell_type": "markdown",
   "metadata": {},
   "source": [
    "# K-Means\n",
    "## 1. K-Means 란?\n",
    "- 사전에 결정된 군집 수 K에 기초하여 전체 데이터를 상대적으로 유사한 K개의 군집으로 구분하는 방법\n",
    "\n",
    "## 2. K-Means 장단점\n",
    "- 장점\n",
    "    * 관찰 데이터 거리만이 분석에 필요한 입력 값이기 때문에, 빠르고 간단하게 적용 가능\n",
    "    * 데이터에 관한 사전 정보가 필요하지 않고, 사전에 특정 변수에 관한 역할 정의가 필요하지 않음\n",
    "- 단점\n",
    "    * 군집의 개수 K가 사전에 정의되어야 함\n",
    "    * 군집 설정에 Outlier(극단좌표)의 영향이 크게 작용됨\n",
    "    \n",
    "## 3. K-Means 군집화의 실행단계\n",
    "1. 초기점(k) 설정\n",
    "    * k는 중심점(centroid)이자, 묶일 그룹(cluster)의 수와 같음\n",
    "2. 그룹(cluster) 부여\n",
    "    * k개의 중심점(동그라미)과 개별 데이터(네모)간의 거리를 측정함\n",
    "    * 가장 가까운 중심점으로 데이터를 부여함\n",
    "3. 중심점(centroid) 업데이트\n",
    "    * 할당된 데이터들의 평균값(mean)으로 새로운 중심점(centroid)을 업데이트\n",
    "4. 최적화\n",
    "    * 2,3번 작업을 반복적으로 수행하다가 군집의 변화가 없으면 작업을 중단"
   ]
  },
  {
   "cell_type": "markdown",
   "metadata": {},
   "source": [
    "### [실습] K-means 개요"
   ]
  },
  {
   "cell_type": "code",
   "execution_count": null,
   "metadata": {},
   "outputs": [],
   "source": []
  }
 ],
 "metadata": {
  "interpreter": {
   "hash": "fc836340034460e9c5583b996b053fe1fe7ffeb52054821d3ff9d502e04de020"
  },
  "kernelspec": {
   "display_name": "Python 3.7.7 ('woodeem')",
   "language": "python",
   "name": "python3"
  },
  "language_info": {
   "name": "python",
   "version": "3.7.7"
  },
  "orig_nbformat": 4
 },
 "nbformat": 4,
 "nbformat_minor": 2
}
