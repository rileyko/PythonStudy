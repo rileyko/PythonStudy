{
 "cells": [
  {
   "cell_type": "markdown",
   "metadata": {},
   "source": [
    "# 인공신경망\n",
    "## 정의\n",
    "- 인공지능의 한 분야\n",
    "- 인공 신경망(Artificial Neural Network, ANN) : 사람의 뇌 속 뉴런의 작용을 본떠 패턴을 구성하는 방식으로 컴퓨터로 하여금 지적인 능력을 갖추게 하는 방법론\n",
    "\n",
    "## 인공신경망의 구조\n",
    "![img](https://img1.daumcdn.net/thumb/R1280x0/?scode=mtistory2&fname=https%3A%2F%2Fblog.kakaocdn.net%2Fdn%2FwoETf%2Fbtq9pEf0JmN%2F4jMXwqR6KnDJ9SyJMWCNQk%2Fimg.png)\n",
    "- 한 층은 하나의 데이터를 의미하고, 노드(점) 하나는 데이터의 요소 하나를 의미함\n",
    "    - 입력층 (Input Layer) : 입력되는 데이터\n",
    "    - 은닉층 (Hidden Layer) : 은닉층은 계산 과정에선 쓰이지만 실제로 사람이 직접 잘 다루지는 않는, 숨어있는 (hidden) 층\n",
    "    - 출력층 (Output Layer) : 이 신경망에서 출력되는 데이터 (결과)\n",
    "\n",
    "## 계산 과정 (5번째 은닉층 예시)\n",
    "![img](https://img1.daumcdn.net/thumb/R1280x0/?scode=mtistory2&fname=https%3A%2F%2Fblog.kakaocdn.net%2Fdn%2FPllAe%2Fbtq9kRtSPOr%2FW48IaiJQJ9YyZ2LSq10Vlk%2Fimg.png)\n",
    "1. x1 ~ x5 데이터 은닉층에 입력\n",
    "2. x1 -> x1w1 + b5 방식으로 x1 ~ x5 데이터 계산\n",
    "    - x1~xn : 입력층 데이터\n",
    "    - w1~wn : weight (가중치)\n",
    "    - b1~bn : bias (편향값)\n",
    "3. 계산한 데이터 모두 합한 후, 은닉층에 전달\n",
    "\n",
    "\n",
    "\n",
    "#### References\n",
    "> https://on-ai.tistory.com/3"
   ]
  },
  {
   "cell_type": "code",
   "execution_count": null,
   "metadata": {},
   "outputs": [],
   "source": []
  }
 ],
 "metadata": {
  "interpreter": {
   "hash": "5f4446411cb4823f72a41c2d680bb6d6d7a87f456e42fc689e4e496b6ebd49bb"
  },
  "kernelspec": {
   "display_name": "Python 3.8.13 ('woodeem2')",
   "language": "python",
   "name": "python3"
  },
  "language_info": {
   "name": "python",
   "version": "3.8.13"
  },
  "orig_nbformat": 4
 },
 "nbformat": 4,
 "nbformat_minor": 2
}
