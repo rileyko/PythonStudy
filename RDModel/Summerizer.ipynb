{
 "cells": [
  {
   "cell_type": "code",
   "execution_count": 1,
   "metadata": {},
   "outputs": [
    {
     "data": {
      "text/plain": [
       "[\"And she won't eat her dinner - rice pudding again -\",\n",
       " \"I've promised her dolls and a daisy-chain,\",\n",
       " \"I've promised her sweets and a ride in the train,\",\n",
       " \"And it's lovely rice pudding for dinner again!\"]"
      ]
     },
     "execution_count": 1,
     "metadata": {},
     "output_type": "execute_result"
    }
   ],
   "source": [
    "from gensim.summarization.summarizer import summarize\n",
    "\n",
    "text = '''Rice Pudding - Poem by Alan Alexander Milne\n",
    "... What is the matter with Mary Jane?\n",
    "... She's crying with all her might and main,\n",
    "... And she won't eat her dinner - rice pudding again -\n",
    "... What is the matter with Mary Jane?\n",
    "... What is the matter with Mary Jane?\n",
    "... I've promised her dolls and a daisy-chain,\n",
    "... And a book about animals - all in vain -\n",
    "... What is the matter with Mary Jane?\n",
    "... What is the matter with Mary Jane?\n",
    "... She's perfectly well, and she hasn't a pain;\n",
    "... But, look at her, now she's beginning again! -\n",
    "... What is the matter with Mary Jane?\n",
    "... What is the matter with Mary Jane?\n",
    "... I've promised her sweets and a ride in the train,\n",
    "... And I've begged her to stop for a bit and explain -\n",
    "... What is the matter with Mary Jane?\n",
    "... What is the matter with Mary Jane?\n",
    "... She's perfectly well and she hasn't a pain,\n",
    "... And it's lovely rice pudding for dinner again!\n",
    "... What is the matter with Mary Jane?'''\n",
    "\n",
    "summarize(text).split('\\n')"
   ]
  },
  {
   "cell_type": "markdown",
   "metadata": {},
   "source": [
    "# 한국어 요약기"
   ]
  },
  {
   "cell_type": "code",
   "execution_count": null,
   "metadata": {},
   "outputs": [],
   "source": [
    "from gensim.summarization.summarizer import summarize\n",
    "\n",
    "import json\n",
    "\n",
    "comment = '''\n",
    "(서울=연합뉴스) 사적 모임은 최대 10명, 다중이용시설 영업시간은 자정까지로 사회적 거리두기가 완화된 첫날인 4일 자영업자들 사이에서는 조심스러운 기대감 속에 불만이 교차했다.\n",
    "이날 오전 종로구에서 고기 굽기용 석쇠 그릴을 분주히 정리하던 최효준(26) 씨는 \"아직 단체 예약이 들어온 것은 없다\"면서도 \"기대는 하고 있다\"고 말했다.\n",
    "그는 \"주변에 회사가 많아서 직장인들이 많이 온다\"며 \"인원 제한도 없어지고, 회사 회식도 빨리 풀리면 좋겠다\"고 했다.\n",
    "은평구 연신내역 인근에서 7년째 주점을 운영하고 있다는 정모(50) 씨도 거리두기 완화 소식에 \"좋다\"며 활짝 웃었다.\n",
    "다만 정씨는 \"지금 회식 예약이 느는 등 변화는 없다. 코로나19 이후 이어진 사람들의 생활 습관이 당장 바뀔지는 모르겠다\"며 조심스러운 기색이었다.\n",
    "거리두기가 전면 해제되지 않고 '찔끔 완화'를 반복했다는 점에서 여전히 못마땅한 반응도 적지 않았다.\n",
    "은평구 갈현동에서 16년째 정육식당을 하는 최남휴(54) 씨는 \"제한 시간이 오후 10시든 12시든 무슨 소용이냐\"며 지친 기색을 보였다.\n",
    "최씨는 \"24시간 전체로 풀어주는 게 아니면 크게 기대가 되지 않는다\"면서도 \"직장인들이 회식을 할 수 있는 10명으로 인원 제한이 완화된 건 그나마 나은 소식\"이라고 했다.\n",
    "종로구에서 횟집 영업 준비에 한창이던 조성진(63) 씨도 \"영업시간이나 인원 제한이 풀리는 것은 아무 상관이 없다\"며 \"직장인들이 주로 오는데, 재택근무가 풀리지 않고는 살아남을 방법이 없다\"고 목소리를 높였다.\n",
    "송파구에서 도시락 전문점을 운영하는 김애경(60) 씨 역시 \"도시락 주문이 크게 변화하려면 대규모 행사가 열려 단체 주문이 들어와야 한다\"며 \"이런 식의 방역 완화는 도움이 되지 않는다\"고 말했다.\n",
    "직장인들 사이에서는 재택근무가 끝나는 것과 회식이 부활하는 게 아쉽다는 반응도 나왔다.\n",
    "노원구에 거주하는 직장인 채모(26) 씨는 \"지금까지 회식을 못 한 만큼 잦아질까 걱정된다\"며 \"코로나19 이후 단체활동이 줄면서 퇴근 뒤 운동이나 각종 클래스 등 자기 계발 시간을 가질 수 있어 좋았는데 아쉽다\"고 했다.\n",
    "직장인 문모(25) 씨도 \"솔직히 회식도 하지 않거나 재택근무를 하는 게 개인적으로 편했기 때문에 아쉬운 마음\"이라면서도 \"코로나 상황이 너무 오래가는 게 지치기도 해 하루빨리 바이러스 전의 일상으로 돌아가고 싶다\"고 했다.\n",
    "한편에서는 방역 지침의 변화가 직장 생활에 주는 영향이 거의 없다는 반응도 나왔다.\n",
    "종로구에 직장을 다니는 구모(27) 씨는 \"이제껏 방역 완화에 따라 재택근무 비율도 꾸준히 줄어들었기 때문에 큰 의미가 없다\"며 \"직장에서도 감염 경험이 없는 사람이 더 적을 정도고, 증상도 약한 수준인 것 같아 무감해졌다\"고 말했다.\n",
    "사회복지사인 하모(25) 씨도 \"애초에 재택근무가 가능한 직업이 아니라 크게 와닿는 점이 없다\"며 \"사람들도 경각심을 갖고 방역 지침을 지키려는 마음이 줄어든 상황이라 방역 수칙 자체가 의미가 없는 것 같다\"고 했다.\n",
    "'''"
   ]
  },
  {
   "cell_type": "code",
   "execution_count": null,
   "metadata": {},
   "outputs": [],
   "source": [
    "from konlpy.tag import Kkma\n",
    "kkma = Kkma()\n",
    "\n",
    "import sys\n",
    "import os\n",
    "import re\n",
    "sys.path.append(os.path.dirname('PyKoSpacing/'))\n",
    "from pykospacing import spacing\n",
    "\n",
    "def preprocessing(review):\n",
    "    total_review = ''\n",
    "    #인풋리뷰\n",
    "    for idx in range(len(review)):\n",
    "        r = review[idx]\n",
    "        #하나의 리뷰에서 문장 단위로 자르기\n",
    "        for sentence in kkma.sentences(r):\n",
    "            sentence = re.sub('([a-zA-Z])','',sentence)\n",
    "            sentence = re.sub('[ㄱ-ㅎㅏ-ㅣ]+','',sentence)\n",
    "            sentence = re.sub('[-=+,#/\\?:^$.@*\\\"※~&%ㆍ!』\\\\‘|\\(\\)\\[\\]\\<\\>`\\'…》]','',sentence)\n",
    "            if len(sentence) == 0:\n",
    "                continue\n",
    "            if len(sentence) < 198:\n",
    "                sentence = spacing(sentence)\n",
    "            sentence += '. '\n",
    "            total_review += sentence\n",
    "    return total_review"
   ]
  },
  {
   "cell_type": "code",
   "execution_count": null,
   "metadata": {},
   "outputs": [],
   "source": [
    "key_sentence = {}\n",
    "for res in review_list:\n",
    "    review = comment[res]\n",
    "    pp = preprocessing(review)\n",
    "    if len(pp.split('.')) < 5:\n",
    "        continue\n",
    "    su = summarize(pp, word_count=20)\n",
    "    su = re.sub('\\n', ' ',su)\n",
    "    if len(su) == 0:\n",
    "        continue\n",
    "    key_sentence[res] = su"
   ]
  }
 ],
 "metadata": {
  "interpreter": {
   "hash": "c80e68c64c307a045f07e018fe3352b25c67aa2b4685bc389cfce23fa09d7595"
  },
  "kernelspec": {
   "display_name": "Python 3.9.7 ('base')",
   "language": "python",
   "name": "python3"
  },
  "language_info": {
   "codemirror_mode": {
    "name": "ipython",
    "version": 3
   },
   "file_extension": ".py",
   "mimetype": "text/x-python",
   "name": "python",
   "nbconvert_exporter": "python",
   "pygments_lexer": "ipython3",
   "version": "3.8.13"
  },
  "orig_nbformat": 4
 },
 "nbformat": 4,
 "nbformat_minor": 2
}
