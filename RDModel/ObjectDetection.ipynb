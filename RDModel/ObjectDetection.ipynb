{
 "cells": [
  {
   "cell_type": "markdown",
   "metadata": {},
   "source": [
    "# ObjectDetection\n",
    "> 참고문서 : <https://bong-sik.tistory.com/16>\n",
    "- OpenCV로 YOLO 알고리즘을 사용해 물체감지하기\n",
    "- YOLO\n",
    "    * You Only Look Once\n",
    "    * Object Detection을 위한 CNN 기반의 물체인식 알고리즘\n",
    "- YOLO와 호환되는 프레임워크\n",
    "    * Darknet : YOLO를 위해 제작된 프레임워크로, 리눅스만 호환\n",
    "    * Darkflow : Darknet을 텐서플로우에 적용한 것으로 빠르고, 다양한 OS가 지원되지만, 설치 복잡\n",
    "    * **OpenCV(⬆️ 3.4.2)** : CPU에서만 작동하여 속도는 느리지만 설치가 쉬움\n",
    "        * 설치 방법(Conda)\n",
    "            - conda install opencv\n",
    "            - conda install -c conda-forge opencv\n",
    "- 개발환경\n",
    "    * OS : Mac\n",
    "    * Framework : OpenCV\n",
    "    * Algorithm : YOLO\n"
   ]
  },
  {
   "cell_type": "code",
   "execution_count": null,
   "metadata": {},
   "outputs": [
    {
     "name": "stdout",
     "output_type": "stream",
     "text": [
      "4.5.0\n"
     ]
    }
   ],
   "source": [
    "# cv2 설치 확인\n",
    "import cv2\n",
    "print(cv2.__version__)"
   ]
  },
  {
   "cell_type": "code",
   "execution_count": 2,
   "metadata": {},
   "outputs": [],
   "source": [
    "# 모듈 임포트하기\n",
    "import cv2\n",
    "import numpy as np"
   ]
  },
  {
   "cell_type": "code",
   "execution_count": 3,
   "metadata": {},
   "outputs": [],
   "source": [
    "def yolo(frame, size, score_threshold, nms_threshold):\n",
    "    # YOLO 네트워크 불러오기\n",
    "    net = cv2.dnn.readNet(f\"yolov3_{size}.weights\", \"yolov3.cfg\")\n",
    "    layer_names = net.getLayerNames()\n",
    "    output_layers = [layer_names[i[0] - 1] for i in net.getUnconnectedOutLayers()]\n",
    "\n",
    "    # 클래스의 갯수만큼 랜덤 RGB 배열을 생성\n",
    "    colors = np.random.uniform(0, 255, size=(len(classes), 3))\n",
    "\n",
    "    # 이미지의 높이, 너비, 채널 받아오기\n",
    "    height, width, channels = frame.shape\n",
    "\n",
    "    # 네트워크에 넣기 위한 전처리\n",
    "    blob = cv2.dnn.blobFromImage(frame, 0.00392, (size, size), (0, 0, 0), True, crop=False)\n",
    "\n",
    "    # 전처리된 blob 네트워크에 입력\n",
    "    net.setInput(blob)\n",
    "\n",
    "    # 결과 받아오기\n",
    "    outs = net.forward(output_layers)\n",
    "\n",
    "    # 각각의 데이터를 저장할 빈 리스트\n",
    "    class_ids = []\n",
    "    confidences = []\n",
    "    boxes = []\n",
    "\n",
    "    for out in outs:\n",
    "        for detection in out:\n",
    "            scores = detection[5:]\n",
    "            class_id = np.argmax(scores)\n",
    "            confidence = scores[class_id]\n",
    "\n",
    "            if confidence > 0.1:\n",
    "                # 탐지된 객체의 너비, 높이 및 중앙 좌표값 찾기\n",
    "                center_x = int(detection[0] * width)\n",
    "                center_y = int(detection[1] * height)\n",
    "                w = int(detection[2] * width)\n",
    "                h = int(detection[3] * height)\n",
    "\n",
    "                # 객체의 사각형 테두리 중 좌상단 좌표값 찾기\n",
    "                x = int(center_x - w / 2)\n",
    "                y = int(center_y - h / 2)\n",
    "\n",
    "                boxes.append([x, y, w, h])\n",
    "                confidences.append(float(confidence))\n",
    "                class_ids.append(class_id)\n",
    "\n",
    "    # 후보 박스(x, y, width, height)와 confidence(상자가 물체일 확률) 출력\n",
    "    print(f\"boxes: {boxes}\")\n",
    "    print(f\"confidences: {confidences}\")\n",
    "\n",
    "    # Non Maximum Suppression (겹쳐있는 박스 중 confidence 가 가장 높은 박스를 선택)\n",
    "    indexes = cv2.dnn.NMSBoxes(boxes, confidences, score_threshold=score_threshold, nms_threshold=nms_threshold)\n",
    "    \n",
    "    # 후보 박스 중 선택된 박스의 인덱스 출력\n",
    "    print(f\"indexes: \", end='')\n",
    "    for index in indexes:\n",
    "        print(index, end=' ')\n",
    "    print(\"\\n\\n============================== classes ==============================\")\n",
    "\n",
    "    for i in range(len(boxes)):\n",
    "        if i in indexes:\n",
    "            x, y, w, h = boxes[i]\n",
    "            class_name = classes[class_ids[i]]\n",
    "            label = f\"{class_name} {confidences[i]:.2f}\"\n",
    "            color = colors[class_ids[i]]\n",
    "\n",
    "            # 사각형 테두리 그리기 및 텍스트 쓰기\n",
    "            cv2.rectangle(frame, (x, y), (x + w, y + h), color, 2)\n",
    "            cv2.rectangle(frame, (x - 1, y), (x + len(class_name) * 13 + 65, y - 25), color, -1)\n",
    "            cv2.putText(frame, label, (x, y - 8), cv2.FONT_HERSHEY_COMPLEX_SMALL, 1, (0, 0, 0), 2)\n",
    "            \n",
    "            # 탐지된 객체의 정보 출력\n",
    "            print(f\"[{class_name}({i})] conf: {confidences[i]} / x: {x} / y: {y} / width: {w} / height: {h}\")\n",
    "\n",
    "    return frame"
   ]
  },
  {
   "cell_type": "code",
   "execution_count": null,
   "metadata": {},
   "outputs": [],
   "source": [
    "# 클래스 리스트\n",
    "classes = [\"person\", \"bicycle\", \"car\", \"motorcycle\",\n",
    "           \"airplane\", \"bus\", \"train\", \"truck\", \"boat\", \"traffic light\", \"fire hydrant\",\n",
    "           \"stop sign\", \"parking meter\", \"bench\", \"bird\", \"cat\", \"dog\", \"horse\",\n",
    "           \"sheep\", \"cow\", \"elephant\", \"bear\", \"zebra\", \"giraffe\", \"backpack\",\n",
    "           \"umbrella\", \"handbag\", \"tie\", \"suitcase\", \"frisbee\", \"skis\",\n",
    "           \"snowboard\", \"sports ball\", \"kite\", \"baseball bat\", \"baseball glove\", \"skateboard\",\n",
    "           \"surfboard\", \"tennis racket\", \"bottle\", \"wine glass\", \"cup\", \"fork\", \"knife\",\n",
    "           \"spoon\", \"bowl\", \"banana\", \"apple\", \"sandwich\", \"orange\", \"broccoli\", \"carrot\", \"hot dog\",\n",
    "           \"pizza\", \"donut\", \"cake\", \"chair\", \"couch\", \"potted plant\", \"bed\", \"dining table\",\n",
    "           \"toilet\", \"tv\", \"laptop\", \"mouse\", \"remote\", \"keyboard\",\n",
    "           \"cell phone\", \"microwave\", \"oven\", \"toaster\", \"sink\", \"refrigerator\",\n",
    "           \"book\", \"clock\", \"vase\", \"scissors\", \"teddy bear\", \"hair drier\", \"toothbrush\"]\n",
    "\n",
    "# 이미지 경로\n",
    "office = \"C:\\\\Users\\\\user\\\\Pictures\\\\Saved Pictures\\\\sample_image\\\\office.jpg\"\n",
    "\n",
    "# 이미지 읽어오기\n",
    "frame = cv2.imread(office)\n",
    "\n",
    "# 입력 사이즈 리스트 (Yolo 에서 사용되는 네크워크 입력 이미지 사이즈)\n",
    "size_list = [320, 416, 608]\n",
    "\n",
    "frame = yolo(frame=frame, size=size_list[2], score_threshold=0.4, nms_threshold=0.4)\n",
    "cv2.imshow(\"Output_Yolo\", frame)\n",
    "cv2.waitKey(0)\n",
    "cv2.destroyAllWindows()"
   ]
  }
 ],
 "metadata": {
  "interpreter": {
   "hash": "fc836340034460e9c5583b996b053fe1fe7ffeb52054821d3ff9d502e04de020"
  },
  "kernelspec": {
   "display_name": "Python 3.7.11 ('woodeem')",
   "language": "python",
   "name": "python3"
  },
  "language_info": {
   "codemirror_mode": {
    "name": "ipython",
    "version": 3
   },
   "file_extension": ".py",
   "mimetype": "text/x-python",
   "name": "python",
   "nbconvert_exporter": "python",
   "pygments_lexer": "ipython3",
   "version": "3.7.11"
  },
  "orig_nbformat": 4
 },
 "nbformat": 4,
 "nbformat_minor": 2
}
