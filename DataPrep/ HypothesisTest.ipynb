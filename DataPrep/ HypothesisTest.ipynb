{
 "cells": [
  {
   "cell_type": "markdown",
   "metadata": {},
   "source": [
    "# [기초 통계] 가설 검정"
   ]
  },
  {
   "cell_type": "markdown",
   "metadata": {},
   "source": [
    "# 1. 기계학습의 개요\n",
    "## 1. 기계 학습의 개요\n",
    "1. 데이터 사이언스 (Data Science)\n",
    "    * 데이터에서 지식을 얻기 위한 **절차와 방법론**을 연구함\n",
    "    * Ex) 데이터 수집, 클리닝, 분석, 시각화, 배포 등 반복적인 절차를 연구하는 학문 분야\n",
    "2. 데이터 마이닝 (Data Mining)\n",
    "    * **대용량의 데이터로부터 유용한 정보를 캐내는(mining) 작업**\n",
    "    * 대용량 데이터에 존재하는 **데이터 간의 관계, 패턴, 규칙** 등을 찾아내고 모형화하여 기업의 경쟁력 확보를 위한 **의사결정을 돕는** 일련의 과정\n",
    "3. 기계 학습 (Machine Learning)\n",
    "    1. 데이터 과학에서 도출된 개념과 방법론의 분석과 모델링에 사용되는 보편적 **알고리즘과 기술**을 연구함\n",
    "    2. 컴퓨터가 스스로 학습 X\n",
    "    3. 지도 학습(Supervised Learning) : 학습용 데이터로 작업하고, 입력과 출력(결과물, 해답)이 주어짐\n",
    "    4. 비지도 학습(Unsupervised Learning) : 답을 미리 알려주지 않고 알고리즘에 의하여 데이터의 숨겨진 패턴을 찾아내는 방법\n",
    "4. 기계학습의 활용\n",
    "    - Ex) 스팸탐지, 음성인식, 주가예측, 헬스케어 등\n",
    "5. 기계학습을 위한 프로그래밍 언어\n",
    "    - Python, R, Java, ...\n",
    "\n",
    "## 기계학습 프로세스\n",
    "1. 기계학습 순환 주기\n",
    "    1. 데이터와 문제 정의 : 해결하려는 문제는 무엇인가? 왜 중요한가? 답은 무엇인가?\n",
    "    2. 데이터 수집\n",
    "    3. 데이터 전처리(데이터 클리닝) : 결측값 처, 노이즈 제거, 이상치 제거\n",
    "    4. 데이터 분석과 모델링\n",
    "    5. 평가 : 학습 모델을 올바르게 평가하고, 새로운 데이터에서도 만족스러운 결과를 낼 수 있는지 확인\n",
    "2. 데이터와 문제의 정의\n",
    "    1. 데이터 : 숫자, 단어, 측정값, 관찰 결과, 사물에 대한 묘사, 이미지 등으로 구성된 값의 모음\n",
    "    2. **범주형 데이터** (Categorical Data)\n",
    "        * 사전에 정해진 특정 유형으로 분류되는 데이터\n",
    "        * 명목형 : 값의 크기 비교 불가능, 상호 배타적이며 순서와 무관한 데이터\n",
    "            * Ex) 성별, MBTI, 지역 등\n",
    "        * 순서형 : 대, 중, 소와 같이 값에 순서를 매길 수 있는 경우 (값의 크기 비교 가능)\n",
    "            * Ex) 성적 등급, 학력 등\n",
    "    3. **연속형 데이터**(Continuous Data)\n",
    "        * 정량적 데이터, 평균이 의미가 있음\n",
    "            * 등간척도 : 온도, 시간 등\n",
    "            * 비율척도 : 키, 몸무게, 점수, 투표율 등\n",
    "3. 데이터 수집\n",
    "    1. 데이터의 발견과 관찰\n",
    "    2. 데이터 수집 : 설문조사, 스크레이핑. 공공데이터 포탈, kaggle, 실험 및 시뮬레이션\n",
    "        * 실험 및 시뮬레이션\n",
    "            * 실제로 실행하기 어려운 실험을 컴퓨터를 이용하여 간단히 행하는 모의실험\n",
    "            * 물리적 시뮬레이션 : 모델하우스, 댐 건설을 위한 모형 제작\n",
    "            * 컴퓨터 시뮬레이션 : 비행 시뮬레이션, 게임 시뮬레이션\n",
    "    3. 데이터 샘플링\n",
    "    4. 데이터 전처리 (데이터 클리닝, Data Cleaning)\n",
    "        * 본격적인 기계학습 절차가 진행되기 전에 정확하지 않거나 불충분한, 관련성 떨어지는 데이터 제거\n",
    "        * 종류\n",
    "            1. 결측치 채우기\n",
    "                - 레코드 제거 : 결측치가 포함된 행 제거\n",
    "                - 필드 제거 : 일정 비율 이상이 결측치라면 필드를 삭제\n",
    "                - N/A 값 부여 : 데이터 존재하지 않는다는 의미로 부여\n",
    "                - 평균, 최빈치 등 다른 속성 값으로 대체\n",
    "            2. 이상치의 제거\n",
    "            3. 데이터 변환 : 머신러닝에 적합한 포맷으로 변환하는 작업\n",
    "            4. 데이터 축소 : 고차원 데이터를 저차원으로 변환\n",
    "    5. 분석할 데이터의 종류\n",
    "        1. 원시 텍스트 : 데이터가 구조적이지 않기 때문에 분석 어려움\n",
    "        2. .csv : 가장 많이 사용되는 형식으로 각각의 필드가 쉼표(,)로 구분됨\n",
    "        3. .json (Java Script Object Notation): 자바스크립트 객체 표기법 {\"office\" : {\"dobby\" : {\"name\" : \"Woolim\"} } } \n",
    "        4. .xml (Extensible Markup Language) : 사용자 정의 태그를 사용해 문서의 구조 및 규칙 포함하는 파일 --> <office><dobby><name>Woolim</name></dobby></office>\n",
    "        5. excel 파일\n",
    "        5. 데이터베이스 (Database, DB)\n",
    "        6. 이미지 파일 (.jpg, .png, ...) : 안면 인식, 패턴 인식 등 다양한 분야에서 활용\n",
    "\n",
    "        \n"
   ]
  },
  {
   "cell_type": "markdown",
   "metadata": {},
   "source": [
    "## 2. 기초통계와 검정\n",
    "1. 데이터 마이닝 (Data Mining)\n",
    "- 대용량의 데이터로부터 유용한 정보를 캐내는(mining) 작업\n",
    "- 대용량 데이터에 존재하는 데이터 간의 관계, 패턴, 규칙 등을 찾아내고 모형화해서 기업의 경쟁력 확보를 위한 의사결정을 돕는 일련의 과정\n",
    "    1. CRISP-DM(CRoss-Industry Standard Processing for Data Mining) : 데이터마이닝을 위한 업계 표준 프로세스\n",
    "        1. 비즈니스 이해 (Business Understanding) : 각종 참고 자료와 현업 책임자와의 의사소통을 통해 해당 비즈니스를 이해하는 단계, 반드시 그 분야의 전문가가 함께 참여해야 함\n",
    "        2. 데이터 이해 (Data Understanding) : 초기 데이터 수집, 데이터 이해, 데이터 품질 검증 등 현업에서 보유하고 관리하는 데이터를 이해하는 단계\n",
    "        3. 데이터 준비 (Data Preparation) : 모델링에 필요한 데이터 변환 및 정제 등의 작업\n",
    "        4. 모델링 (Modeling) : 데이터 분석을 위한 모델링 기법을 사용하고 모델을 생성하는 단계\n",
    "        5. 평가 (Evaluation) : 결과에 대한 분석 및 평가 & 필요하다면 모형 재구축\n",
    "        6. 배포 (Deployment) : 최종 보고서 작성 및 배포, 검토가 끝난 모형을 실제 현업에 적용하는 단계\n",
    "    2. 인공지능/데이터 마이닝의 다양한 기법들\n",
    "        1. 분류모형(Classification Models)\n",
    "            - 어떤 기준(정답)에 의해 분석 대상을 2~3개 이상의 집단으로 분류하는 예측 모형(부도 예측, MBTI 예측 등)\n",
    "                * 다중판별분석(MDA, Multi Discriminant Analysis)\n",
    "                * 로지스틱 회귀분석 (LOGIT, Logistic Regression)\n",
    "                * 인공신경망 (ANN, Artificial Neural Networks)\n",
    "                * 사례기반추론 (CBR, Case-Based Reasoning)\n",
    "                * 의사결정나무 (DT, Decision Trees)\n",
    "                * SVM (Support Vector Machines)\n",
    "        2. 최적화 기법(Optimization Methods)\n",
    "            - 주어진 제약 조건 하에서 특정 목적함수를 최대, 최소화하는 변수들의 최적값을 도출하는 기법 (공장의 생산량 최대화 문제, 비용을 최소화하는 최적 유통 경로 등)\n",
    "                * 선형계획법(LP, Linear Programming)\n",
    "                * 유전자 알고리즘(GA, Genetic Algorithms)\n",
    "        3. 가치평가 기법(Valuation Methods)\n",
    "            - 정성적 측정대상에 대한 가치를 비교, 평가하는 기법 (대선 예측 등)\n",
    "                * 분석적 계층 프로세스(AHP, Analytic Hierarchy Process)\n",
    "                * 분석적 네트워크 프로세스(ANP, Analytics Network Process)\n",
    "                * 자료포락분석(DEA, Data Envelopment Analysis)\n",
    "        4. 분류/군집화 기법 (Clustering Methods)\n",
    "            - 사전에 정해진 기준없이 서로 동질한 데이터들을 같은 그룹으로 묶어주는 기법(고객 세분화 등)\n",
    "                * K-means 분류기법(K-means clustering)\n",
    "        5. 전처리 기법(Preprocessing Methods)\n",
    "            - 예측 모형의 성과를 향상시키기 위해 입력데이터에 대해 사전 처리를 수행하는 기법\n",
    "                * 주성분분석(PCA, Principal Component Analysis)\n",
    "                * 퍼지이론(Fuzzy theory)\n",
    "\n",
    "2. 척도의 4가지 종류\n",
    "- 명목척도, 서열척도 => 이산형 변수\n",
    "- 등간척도, 비율척도 => 연속형 변수\n",
    "    1. 명목척도(Nominal Scales)\n",
    "        * 정의 : 대상의 특성을 분류하거나 확인할 목적으로 사용하는 척도\n",
    "        * Ex : 축구선수 등번호, 출신학교 코드 등\n",
    "    2. 서열척도(Ordinal Scales)\n",
    "        * 정의 : 측정 대상간의 순서를 밝히기 위해 사용하는 척도(양적 비교 X)\n",
    "        * Ex : 선호도 우선순위, 수학시험 석차\n",
    "    3. 등간척도(Internal Scales)\n",
    "        * 정의 : 부여된 순위 사이의 간격이 동일한 척도(양적 비교 O)\n",
    "        * Ex : 온도\n",
    "    4. 비율척도(Ratio Scales)\n",
    "        * 정의 : 순위 사이의 간격이 동일하고, 비율계산 가능한 척도\n",
    "        * Ex : 무게, 투표율\n",
    "\n",
    "3. 모집단과 표본\n",
    "    1. 모집단(population)\n",
    "        * 모집단(population) : 관심의 대상이 되는 집단 전체 \n",
    "        * 모수(parameter) : 모집단이 가지고 있는 특징을 나타내는 수치, Ex) 평균값\n",
    "        * 전수조사(census) : 모집단의 모든 개체를 전부 조사하는 방법\n",
    "    2. 표본(sample)\n",
    "        * 표본(sample) : 모수값을 알아내기 위 추출된 모집단의 일부분으로, 시간과 비용 절약 가능\n",
    "        * 표본 추출 : 표본이 모집단을 대표할 수 있도록 추출하는 것이 중요함\n"
   ]
  },
  {
   "cell_type": "markdown",
   "metadata": {},
   "source": [
    "## 3. 기술통계량\n",
    "- 분산, 표준편차 : 관측치들이 평균을 중심으로 얼마나 퍼져있는지를 알려주는 척도로서 분산&표준편차 ⬆️ = 평균값으로부터 널리 퍼져있음\n",
    "- 왜도(Skewness) : 분포의 치우침을 나타내는 지표로서, 왜도 > 0 => 좌측에 치우침, 왜도 = 0 => 중앙에 위치, 왜도 < 0 = 우측에 치우침\n",
    "- 첨도(Kurtosis) : 분포의 뾰족한 정도를 나타내는 지표\n",
    "1. 카이제곱 검정(교차분석)\n",
    "    1. 이산형 변수로 구성된 2개의 변수가 서로 독립인지 아닌지, 즉, 두 이산형(discrete) 변수가 서로 상관관계가 있는지 통계적으로 검정할 때  사용되는 기법\n",
    "    2. 해석 : 점근 유의확률(p-value)을 토대로 평가함\n",
    "        * 95% 신뢰수준 하에서 = 유의확률 < 0.05\n",
    "        * 유의확률은 작을수록 좋음\n",
    "2. 귀무가설(H0) & 대립가설(Ha)\n",
    "    - 귀무가설이 기각됨을 보여줌으로써 증명\n",
    "        * 귀무가설 : 대립가설의 반대\n",
    "        * **대립가설 : 우리가 알고싶은 명제**\n",
    "3. 독립표본 t-test\n",
    "    - 서로 독립된 **두 집단**간의 **평균**의 차이가 통계적으로 유의미한지 비교\n",
    "4. 대응표본 t-test (Paired-samples t-test)\n",
    "    - 서로 동일한 모집단에서 추출된 두 표본에 대해 특정 연속형 변수 평균값이 차이가 있는지 통계적으로 검정할 때 사용하는 기법\n",
    "5. 일원배치 분산분석(One-Way ANOVA)\n",
    "    - **3개 이상의 집단**간 평균의 차이가 통계적으로 유의미한지 비교"
   ]
  },
  {
   "cell_type": "markdown",
   "metadata": {},
   "source": [
    "### [실습] 기초통계량"
   ]
  },
  {
   "cell_type": "code",
   "execution_count": 1,
   "metadata": {},
   "outputs": [
    {
     "name": "stdout",
     "output_type": "stream",
     "text": [
      "mean_val:  81.26666666666667\n",
      "median_val:  89.0\n",
      "most_freq_val:  ModeResult(mode=array([89]), count=array([3]))\n",
      "most_freq_val:  89\n",
      "var_val:  392\n",
      "std_val:  19.79898987322333\n",
      "range_val:  80\n",
      "max_val:  100\n",
      "min_val:  100\n",
      "max_min:  0\n",
      "0% 20.0\n",
      "80% 91.0\n",
      "100% 100.0\n",
      "78.5 89.0 90.0\n",
      "IQR(InterQuartile Range:  11.5\n"
     ]
    }
   ],
   "source": [
    "import numpy as np\n",
    "from scipy import stats\n",
    "from statistics import variance, stdev\n",
    "\n",
    "data = np.array([20,80,90,95,87,89,95,100,60,70,77,88,89,89,90])\n",
    "\n",
    "#평균\n",
    "mean_val = np.mean(data)\n",
    "print(\"mean_val: \", mean_val)\n",
    "\n",
    "#중위수\n",
    "median_val = np.median(data)\n",
    "print(\"median_val: \", median_val)\n",
    "\n",
    "#최빈값\n",
    "most_freq_val = stats.mode(data)\n",
    "print(\"most_freq_val: \", most_freq_val)\n",
    "print(\"most_freq_val: \", most_freq_val[0][0])\n",
    "\n",
    "#분산\n",
    "var_val = variance(data)\n",
    "print(\"var_val: \", var_val)\n",
    "\n",
    "#표준편차\n",
    "std_val = stdev(data)\n",
    "print(\"std_val: \", std_val)\n",
    "\n",
    "#범위\n",
    "range_val = np.max(data) - np.min(data)\n",
    "print(\"range_val: \", range_val)\n",
    "\n",
    "#최대, 최소값\n",
    "max_val = np.max(data)\n",
    "min_val = np.max(data)\n",
    "max_min = max_val - min_val\n",
    "print(\"max_val: \", max_val)\n",
    "print(\"min_val: \", min_val)\n",
    "print(\"max_min: \", max_min)\n",
    "\n",
    "#백분위값\n",
    "for val in [0,80,100]:\n",
    "    percent_value = np.percentile(data, val)\n",
    "    print(str(val)+ \"%\", percent_value)\n",
    "\n",
    "#사분위수\n",
    "Q1, Q2, Q3 = np.percentile(data, [25,50,75])\n",
    "print(Q1, Q2, Q3)\n",
    "print(\"IQR(InterQuartile Range: \", Q3 - Q1)"
   ]
  },
  {
   "cell_type": "markdown",
   "metadata": {},
   "source": [
    "### [실습] 카이제곱 검정"
   ]
  },
  {
   "cell_type": "code",
   "execution_count": 2,
   "metadata": {},
   "outputs": [
    {
     "data": {
      "text/plain": [
       "Power_divergenceResult(statistic=14.200000000000001, pvalue=0.014387678176921308)"
      ]
     },
     "execution_count": 2,
     "metadata": {},
     "output_type": "execute_result"
    }
   ],
   "source": [
    "# data1과 data2가 차이가 있는지 알고 싶을 때\n",
    "# 귀무가설 : 차이 O\n",
    "# 대립가설 : 차이 X\n",
    "\n",
    "import pandas as pd\n",
    "from scipy import stats\n",
    "\n",
    "data1 = [4,6,17,16,8,9]\n",
    "data2 = [10,10,10,10,10,10]\n",
    "\n",
    "chis = stats.chisquare(data1, data2)\n",
    "\n",
    "#검정통계량과 p-value\n",
    "chis\n",
    "\n",
    "#p-value < 0.05 --> 귀무가설 기각 & 대립가설 채택\n",
    "# 두 데이터 차이 O"
   ]
  },
  {
   "cell_type": "markdown",
   "metadata": {},
   "source": [
    "### [실습] 단일표본 t-test"
   ]
  },
  {
   "cell_type": "code",
   "execution_count": 4,
   "metadata": {},
   "outputs": [
    {
     "name": "stdout",
     "output_type": "stream",
     "text": [
      "검정통계량 : 3.435, p-value: 0.003\n"
     ]
    }
   ],
   "source": [
    "# 전체 학생들 중 20명 학생을 선택해 평균키가 175cm 인지 아닌지\n",
    "# 귀무가설 : 평균키 175cm O\n",
    "# 대립가설 : 평균키 175cm X\n",
    "\n",
    "import numpy as np\n",
    "from scipy import stats\n",
    "\n",
    "np.random.seed(1) #랜덤시드 설정\n",
    "\n",
    "heights = [180 + np.random.normal(0,5) for a in range(20)]\n",
    "\n",
    "result = stats.ttest_1samp(heights, 175)\n",
    "print(\"검정통계량 : %.3f, p-value: %.3f\" %result)\n",
    "\n",
    "#신뢰수준 95%에서 통계적으로 유의함 => 귀무가설 기각 & 대립가설 채택 => 평균키 175cm X"
   ]
  },
  {
   "cell_type": "markdown",
   "metadata": {},
   "source": [
    "### [실습] 독립표본 t-test"
   ]
  },
  {
   "cell_type": "code",
   "execution_count": 7,
   "metadata": {},
   "outputs": [
    {
     "name": "stdout",
     "output_type": "stream",
     "text": [
      "검정통계량: -2.329, p-value : 0.025\n",
      "검정통계량: -2.329, p-value : 0.026\n"
     ]
    }
   ],
   "source": [
    "# 그룹1과 그룹2에서 각각 20명의 학생들을 선택하여 평균키가 같은지 다른지\n",
    "# 귀무가설 : 평균키 같음\n",
    "# 대립가설 : 평균키 다름\n",
    "\n",
    "import numpy as np\n",
    "from scipy import stats\n",
    "\n",
    "np.random.seed(1)\n",
    "\n",
    "#Group 1 => mean : 170, std : 5\n",
    "group1 = [170 + np.random.normal(0,5) for a in range(20)] \n",
    "#Group 2 => mean : 175, std : 10\n",
    "group2 = [175 + np.random.normal(0,10) for a in range(20)]\n",
    "\n",
    "#등분산가정 O\n",
    "result1 = stats.ttest_ind(group1, group2)\n",
    "print(\"검정통계량: %.3f, p-value : %.3f\" %result1)\n",
    "\n",
    "#등분산가정 X\n",
    "result2 = stats.ttest_ind(group1, group2, equal_var=False)\n",
    "print(\"검정통계량: %.3f, p-value : %.3f\" %result2)\n",
    "\n",
    "# p-value < 0.05 => 통계적으로 유의미 => 귀무가설 기각 & 대립가설 채택 => Group1 & Group2 평균키 다름"
   ]
  },
  {
   "cell_type": "markdown",
   "metadata": {},
   "source": [
    "### [실습] 대응표본 t-test"
   ]
  },
  {
   "cell_type": "code",
   "execution_count": 2,
   "metadata": {},
   "outputs": [
    {
     "name": "stdout",
     "output_type": "stream",
     "text": [
      "[68.1217268183162, 56.94121793174962, 57.359141238682724, 54.63515688921915, 64.3270381466234, 48.492306515598585, 68.7240588210824, 56.19396549552449, 61.59519548028549, 58.75314812261295, 67.31053968522487, 49.69929645251173, 58.38791397993246, 58.07972822665792, 65.66884721167719, 54.500543663429845, 59.13785896224782, 55.61070791039314, 60.21106873357797, 62.914076068579114]\n",
      "[65.94098797171107, 57.67544499710449, 57.819839215935254, 54.63788246116392, 64.84275566541605, 47.34427263203588, 67.86790793112998, 54.58033393455883, 60.64923115285458, 58.78881770728494, 65.70631311881824, 48.80793606499072, 57.001583230054315, 56.517144665313666, 64.13055954741337, 53.94173367626836, 57.224973536332286, 55.315321289307555, 61.60772730564428, 63.218635763189475]\n",
      "검정통계량: 2.915, p-value: 0.009\n"
     ]
    }
   ],
   "source": [
    "# 다이어트약 복용한 사람 20명을 선택해 복용 전후의 체중차이 유의미한가\n",
    "# 귀무가설 : 복용 전후 체중 차이 X\n",
    "# 대립가설 : 복용 전후 체중 차이 O\n",
    "\n",
    "import numpy as np\n",
    "from scipy import stats\n",
    "np.random.seed(1)\n",
    "\n",
    "#복용 전 : 평균 60, 표준편차 5\n",
    "before = [60 + np.random.normal(0,5) for _ in range(20)]\n",
    "print(before)\n",
    "\n",
    "#복용 후 => 평균 : 복용 전 체중 * 0.99, 표준편차 : 0.02\n",
    "after = [w * np.random.normal(0.99, 0.02) for w in before]\n",
    "print(after)\n",
    "\n",
    "#대응표본 t-test\n",
    "result = stats.ttest_rel(before, after)\n",
    "print(\"검정통계량: %.3f, p-value: %.3f\" %result)\n",
    "\n",
    "# p-value < 0.05 => 95% 신뢰수준 하에서 통계적 유의미 => 귀무가설 기각 & 대립가설 채택 \n",
    "# => 다이어트약 복용 전후에 차이가 있다\n"
   ]
  },
  {
   "cell_type": "markdown",
   "metadata": {},
   "source": [
    "### [실습] ANOVA 분석"
   ]
  },
  {
   "cell_type": "code",
   "execution_count": 3,
   "metadata": {},
   "outputs": [
    {
     "name": "stdout",
     "output_type": "stream",
     "text": [
      "woodeem 평균:  79.0\n",
      "riley 평균:  65.375\n",
      "anne 평균:  64.375\n",
      "ranhee 평균:  69.5\n"
     ]
    },
    {
     "data": {
      "image/png": "[encoded data removed]",
      "text/plain": [
       "<Figure size 432x288 with 1 Axes>"
      ]
     },
     "metadata": {
      "needs_background": "light"
     },
     "output_type": "display_data"
    },
    {
     "name": "stdout",
     "output_type": "stream",
     "text": [
      "F 값:  4.2210931159803815 P-value:  0.013933707427484199\n"
     ]
    }
   ],
   "source": [
    "# 4종류의 신입사원 온보딩 효과 평가하기\n",
    "# 신입사원 32명에게 4명의 강사에게(3종류 ⬆️ : ANOVA) 온보딩을 임의로 수행하도록 한 뒤, 표준 시험 점수로 평가\n",
    "# 귀무가설 : 4종류 온보딩 차이 X\n",
    "# 대립가설 : 4종류 온보딩 차이 O\n",
    "\n",
    "import scipy.stats as stats\n",
    "import matplotlib.pyplot as plt\n",
    "import numpy as np\n",
    "%matplotlib inline\n",
    "\n",
    "woodeem = [66,74,82,75,73,97,87,78]\n",
    "riley = [72,51,59,62,74,64,78,63]\n",
    "anne = [61,60,57,60,81,55,70,71]\n",
    "ranhee = [63,61,76,84,58,65,69,80]\n",
    "\n",
    "print(\"woodeem 평균: \", np.mean(woodeem))\n",
    "print(\"riley 평균: \", np.mean(riley))\n",
    "print(\"anne 평균: \", np.mean(anne))\n",
    "print(\"ranhee 평균: \", np.mean(ranhee))\n",
    "\n",
    "# matplotlib plotting\n",
    "plot_data = [woodeem, riley, anne, ranhee]\n",
    "\n",
    "ax = plt.boxplot(plot_data)\n",
    "plt.show()\n",
    "f,p =stats.f_oneway(woodeem, riley, anne, ranhee)\n",
    "print(\"F 값: \", f, \"P-value: \", p)\n",
    "\n",
    "# p-value < 0.05 => 95% 신뢰수준 하에서 통계적 유의미 => 귀무가설 기각 & 대립가설 채택\n",
    "# => 4개 온보딩 결과는 차이가 있다\n",
    "\n"
   ]
  }
 ],
 "metadata": {
  "interpreter": {
   "hash": "fc836340034460e9c5583b996b053fe1fe7ffeb52054821d3ff9d502e04de020"
  },
  "kernelspec": {
   "display_name": "Python 3.7.11 ('woodeem')",
   "language": "python",
   "name": "python3"
  },
  "language_info": {
   "codemirror_mode": {
    "name": "ipython",
    "version": 3
   },
   "file_extension": ".py",
   "mimetype": "text/x-python",
   "name": "python",
   "nbconvert_exporter": "python",
   "pygments_lexer": "ipython3",
   "version": "3.7.13"
  },
  "orig_nbformat": 4
 },
 "nbformat": 4,
 "nbformat_minor": 2
}
